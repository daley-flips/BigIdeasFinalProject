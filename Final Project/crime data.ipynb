{
 "cells": [
  {
   "cell_type": "code",
   "execution_count": 22,
   "metadata": {},
   "outputs": [
    {
     "name": "stdout",
     "output_type": "stream",
     "text": [
      "   Zip Code  Crime rates\n",
      "0     15212        34146\n",
      "7     15210        25467\n",
      "15    15206        24106\n",
      "12    15219        21958\n",
      "4     15203        19300\n",
      "3     15222        17142\n",
      "8     15213        13481\n",
      "19    15217        11487\n",
      "23    15208        11349\n",
      "2     15214         9465\n"
     ]
    },
    {
     "data": {
      "image/png": "[encoded data removed]",
      "text/plain": [
       "<Figure size 432x288 with 1 Axes>"
      ]
     },
     "metadata": {
      "needs_background": "light"
     },
     "output_type": "display_data"
    }
   ],
   "source": [
    "import pandas as pd\n",
    "import re\n",
    "import matplotlib.pyplot as plt\n",
    "\n",
    "def getzc(incidentLocation):#this method is used to take the information under the Incident Location column and get the zip code\n",
    "    zc = r'\\b\\d{5}\\b' #matches 5 digits at the end of a string\n",
    "    y = re.search(zc, incidentLocation)\n",
    "    \n",
    "    if y:#zip code is found\n",
    "        return y.group(0)\n",
    "    else:#no zip code is found\n",
    "        return None\n",
    "    \n",
    "chip = pd.read_csv(\"Police Incident Blotter data.csv\", sep=\",\")\n",
    "\n",
    "\n",
    "\n",
    "zipList = []\n",
    "for i in range(312145):\n",
    "    x = chip.iloc[i, 4]\n",
    "    xzc = getzc(x)\n",
    "    #print(xzc) #will print either a 5 digit zip code or \"None\"\n",
    "    zipList.append(xzc)\n",
    "    \n",
    "d = dict()\n",
    "for c in zipList:\n",
    "    if c not in d:\n",
    "        d[c] = 1\n",
    "    else:\n",
    "        d[c] = d[c] + 1\n",
    "#print(\"this is the number of crimes per zip code from January 1st, 2016, to Febuary 18th, 2023\")\n",
    "#print(d)\n",
    "#print(\"there are \", len(d), \" different zip codes in this data set\")\n",
    "\n",
    "\n",
    "\n",
    "\n",
    "column_names=[\"Zip Code\",\"Crime rates\"]\n",
    "\n",
    "#df = pd.DataFrame(d, index=['i',], columns=column_names)\n",
    "df = pd.DataFrame(list(d.items()), columns=column_names)\n",
    "df = df.sort_values('Crime rates', ascending=False)\n",
    "                   \n",
    "top_60_values = df.head(60)\n",
    "#print(top_60_values)\n",
    "\n",
    "#type(df)\n",
    "top_60_values = top_60_values.drop(9)\n",
    "dfTop10 = top_60_values.head(10)\n",
    "plt.bar(dfTop10['Zip Code'], dfTop10['Crime rates'])\n",
    "print(dfTop10)"
   ]
  },
  {
   "cell_type": "markdown",
   "metadata": {},
   "source": [
    "As shown above, these are the top 10 worst zip codes in Pittburgh in terms of safety. Any neighboorhood that contains these zip codes should not be the best neighboorhood in Pittsburgh."
   ]
  }
 ],
 "metadata": {
  "kernelspec": {
   "display_name": "Python 3",
   "language": "python",
   "name": "python3"
  },
  "language_info": {
   "codemirror_mode": {
    "name": "ipython",
    "version": 3
   },
   "file_extension": ".py",
   "mimetype": "text/x-python",
   "name": "python",
   "nbconvert_exporter": "python",
   "pygments_lexer": "ipython3",
   "version": "3.8.3"
  }
 },
 "nbformat": 4,
 "nbformat_minor": 4
}
