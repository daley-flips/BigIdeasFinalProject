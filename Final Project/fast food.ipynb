{
 "cells": [
  {
   "cell_type": "code",
   "execution_count": 1,
   "metadata": {},
   "outputs": [
    {
     "name": "stdout",
     "output_type": "stream",
     "text": [
      "    Zip Code  Number of fast food resturants\n",
      "7      15146                              51\n",
      "23     15222                              46\n",
      "0      15237                              44\n",
      "9      15213                              38\n",
      "5      15205                              36\n",
      "1      15219                              27\n",
      "20     15236                              25\n",
      "52     15235                              22\n",
      "21     15102                              21\n",
      "40     15217                              20\n"
     ]
    },
    {
     "data": {
      "text/plain": [
       "<BarContainer object of 10 artists>"
      ]
     },
     "execution_count": 1,
     "metadata": {},
     "output_type": "execute_result"
    },
    {
     "data": {
      "image/png": "[encoded data removed]",
      "text/plain": [
       "<Figure size 432x288 with 1 Axes>"
      ]
     },
     "metadata": {
      "needs_background": "light"
     },
     "output_type": "display_data"
    }
   ],
   "source": [
    "import pandas as pd\n",
    "import matplotlib.pyplot as plt\n",
    "chip = pd.read_csv(\"fast food.csv\", sep=\",\")\n",
    "\n",
    "\n",
    "\n",
    "zipList = []\n",
    "for i in range(837):#test for the zip code 15203 since it comes up 3 times in 0-15\n",
    "    x = chip.iloc[i, 5]\n",
    "    zipList.append(x)\n",
    "    \n",
    "d = dict()\n",
    "for c in zipList:\n",
    "    if c not in d:\n",
    "        d[c] = 1\n",
    "    else:\n",
    "        d[c] = d[c] + 1\n",
    "#print(\"this is the number of fast food resturants for each zip code\")\n",
    "#print(d)\n",
    "#print(\"there are \", len(d), \" different zip codes in this data set\")\n",
    "\n",
    "\n",
    "\n",
    "\n",
    "\n",
    "column_names=[\"Zip Code\",\"Number of fast food resturants\"]\n",
    "\n",
    "#df = pd.DataFrame(d, index=['i',], columns=column_names)\n",
    "df = pd.DataFrame(list(d.items()), columns=column_names)\n",
    "df = df.sort_values('Number of fast food resturants', ascending=False)\n",
    "                   \n",
    "top_60_values = df.head(10)\n",
    "print(top_60_values)\n",
    "\n",
    "#type(df)\n",
    "dfTop10 = df.head(10)\n",
    "plt.bar(dfTop10['Zip Code'], dfTop10['Number of fast food resturants'])"
   ]
  },
  {
   "cell_type": "markdown",
   "metadata": {},
   "source": [
    "As shown above, these are the top 10 zip codes with the most amount of fast food resturants. All neighboorhoods in this zip code could be a contender for the best nieghborhood in pittsburgh if they have other good metrics as well."
   ]
  }
 ],
 "metadata": {
  "kernelspec": {
   "display_name": "Python 3",
   "language": "python",
   "name": "python3"
  },
  "language_info": {
   "codemirror_mode": {
    "name": "ipython",
    "version": 3
   },
   "file_extension": ".py",
   "mimetype": "text/x-python",
   "name": "python",
   "nbconvert_exporter": "python",
   "pygments_lexer": "ipython3",
   "version": "3.8.3"
  }
 },
 "nbformat": 4,
 "nbformat_minor": 4
}
